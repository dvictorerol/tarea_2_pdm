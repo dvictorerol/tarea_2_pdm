{
  "cells": [
    {
      "cell_type": "code",
      "execution_count": 328,
      "metadata": {
        "id": "aSbAU8lnLaKD",
        "outputId": "3a8d9c59-4d0c-4083-949b-5a053919fe69",
        "colab": {
          "base_uri": "https://localhost:8080/"
        }
      },
      "outputs": [
        {
          "output_type": "stream",
          "name": "stdout",
          "text": [
            "Requirement already satisfied: pyspark in /usr/local/lib/python3.10/dist-packages (3.5.1)\n",
            "Requirement already satisfied: py4j==0.10.9.7 in /usr/local/lib/python3.10/dist-packages (from pyspark) (0.10.9.7)\n"
          ]
        }
      ],
      "source": [
        "!pip install pyspark"
      ]
    },
    {
      "cell_type": "code",
      "source": [
        "!pip install neo4j"
      ],
      "metadata": {
        "id": "LBsFO_FS6enz",
        "outputId": "3c45a7d8-502e-4cb1-c60d-97661159638a",
        "colab": {
          "base_uri": "https://localhost:8080/"
        }
      },
      "execution_count": 329,
      "outputs": [
        {
          "output_type": "stream",
          "name": "stdout",
          "text": [
            "Requirement already satisfied: neo4j in /usr/local/lib/python3.10/dist-packages (5.21.0)\n",
            "Requirement already satisfied: pytz in /usr/local/lib/python3.10/dist-packages (from neo4j) (2023.4)\n"
          ]
        }
      ]
    },
    {
      "cell_type": "code",
      "source": [
        "import neo4j\n",
        "from neo4j import GraphDatabase\n",
        "import pandas as pd\n",
        "\n",
        "from itertools import product"
      ],
      "metadata": {
        "id": "WOdi4ECF6csh"
      },
      "execution_count": 330,
      "outputs": []
    },
    {
      "cell_type": "code",
      "source": [
        "from pyspark.sql import SparkSession\n",
        "\n",
        "spark = SparkSession.builder \\\n",
        "    .getOrCreate()\n",
        "\n",
        "sc = spark.sparkContext\n",
        "sc"
      ],
      "metadata": {
        "id": "TJM2orh30IPa",
        "outputId": "c36abf91-022c-47c8-b030-ce76b346471c",
        "colab": {
          "base_uri": "https://localhost:8080/",
          "height": 196
        }
      },
      "execution_count": 331,
      "outputs": [
        {
          "output_type": "execute_result",
          "data": {
            "text/plain": [
              "<SparkContext master=local[*] appName=pyspark-shell>"
            ],
            "text/html": [
              "\n",
              "        <div>\n",
              "            <p><b>SparkContext</b></p>\n",
              "\n",
              "            <p><a href=\"http://f286870f1fd5:4040\">Spark UI</a></p>\n",
              "\n",
              "            <dl>\n",
              "              <dt>Version</dt>\n",
              "                <dd><code>v3.5.1</code></dd>\n",
              "              <dt>Master</dt>\n",
              "                <dd><code>local[*]</code></dd>\n",
              "              <dt>AppName</dt>\n",
              "                <dd><code>pyspark-shell</code></dd>\n",
              "            </dl>\n",
              "        </div>\n",
              "        "
            ]
          },
          "metadata": {},
          "execution_count": 331
        }
      ]
    },
    {
      "cell_type": "markdown",
      "source": [
        "Grafo de prueba"
      ],
      "metadata": {
        "id": "fbILK_GObDBM"
      }
    },
    {
      "cell_type": "code",
      "source": [
        "n1 = [1, 1, 2, 3, 3, 4, 4, 4, 4, 5, 5, 5]\n",
        "label = [11, 11, 11, 11, 11, 11, 11, 11, 12, 12, 12, 12]\n",
        "n2 = [2, 3, 3, 2, 4, 1, 2, 3, 5, 1, 2, 6]\n",
        "\n",
        "df = pd.DataFrame(data={'n1' : n1, 'label' : label, 'n2' : n2})\n",
        "df"
      ],
      "metadata": {
        "id": "k3F-fszQIIE_",
        "outputId": "09ccc8d7-e6e7-4092-dde4-39bf133bba39",
        "colab": {
          "base_uri": "https://localhost:8080/",
          "height": 426
        }
      },
      "execution_count": 332,
      "outputs": [
        {
          "output_type": "execute_result",
          "data": {
            "text/plain": [
              "    n1  label  n2\n",
              "0    1     11   2\n",
              "1    1     11   3\n",
              "2    2     11   3\n",
              "3    3     11   2\n",
              "4    3     11   4\n",
              "5    4     11   1\n",
              "6    4     11   2\n",
              "7    4     11   3\n",
              "8    4     12   5\n",
              "9    5     12   1\n",
              "10   5     12   2\n",
              "11   5     12   6"
            ],
            "text/html": [
              "\n",
              "  <div id=\"df-11c0b355-8ee7-45c0-9554-7a92d06b9df5\" class=\"colab-df-container\">\n",
              "    <div>\n",
              "<style scoped>\n",
              "    .dataframe tbody tr th:only-of-type {\n",
              "        vertical-align: middle;\n",
              "    }\n",
              "\n",
              "    .dataframe tbody tr th {\n",
              "        vertical-align: top;\n",
              "    }\n",
              "\n",
              "    .dataframe thead th {\n",
              "        text-align: right;\n",
              "    }\n",
              "</style>\n",
              "<table border=\"1\" class=\"dataframe\">\n",
              "  <thead>\n",
              "    <tr style=\"text-align: right;\">\n",
              "      <th></th>\n",
              "      <th>n1</th>\n",
              "      <th>label</th>\n",
              "      <th>n2</th>\n",
              "    </tr>\n",
              "  </thead>\n",
              "  <tbody>\n",
              "    <tr>\n",
              "      <th>0</th>\n",
              "      <td>1</td>\n",
              "      <td>11</td>\n",
              "      <td>2</td>\n",
              "    </tr>\n",
              "    <tr>\n",
              "      <th>1</th>\n",
              "      <td>1</td>\n",
              "      <td>11</td>\n",
              "      <td>3</td>\n",
              "    </tr>\n",
              "    <tr>\n",
              "      <th>2</th>\n",
              "      <td>2</td>\n",
              "      <td>11</td>\n",
              "      <td>3</td>\n",
              "    </tr>\n",
              "    <tr>\n",
              "      <th>3</th>\n",
              "      <td>3</td>\n",
              "      <td>11</td>\n",
              "      <td>2</td>\n",
              "    </tr>\n",
              "    <tr>\n",
              "      <th>4</th>\n",
              "      <td>3</td>\n",
              "      <td>11</td>\n",
              "      <td>4</td>\n",
              "    </tr>\n",
              "    <tr>\n",
              "      <th>5</th>\n",
              "      <td>4</td>\n",
              "      <td>11</td>\n",
              "      <td>1</td>\n",
              "    </tr>\n",
              "    <tr>\n",
              "      <th>6</th>\n",
              "      <td>4</td>\n",
              "      <td>11</td>\n",
              "      <td>2</td>\n",
              "    </tr>\n",
              "    <tr>\n",
              "      <th>7</th>\n",
              "      <td>4</td>\n",
              "      <td>11</td>\n",
              "      <td>3</td>\n",
              "    </tr>\n",
              "    <tr>\n",
              "      <th>8</th>\n",
              "      <td>4</td>\n",
              "      <td>12</td>\n",
              "      <td>5</td>\n",
              "    </tr>\n",
              "    <tr>\n",
              "      <th>9</th>\n",
              "      <td>5</td>\n",
              "      <td>12</td>\n",
              "      <td>1</td>\n",
              "    </tr>\n",
              "    <tr>\n",
              "      <th>10</th>\n",
              "      <td>5</td>\n",
              "      <td>12</td>\n",
              "      <td>2</td>\n",
              "    </tr>\n",
              "    <tr>\n",
              "      <th>11</th>\n",
              "      <td>5</td>\n",
              "      <td>12</td>\n",
              "      <td>6</td>\n",
              "    </tr>\n",
              "  </tbody>\n",
              "</table>\n",
              "</div>\n",
              "    <div class=\"colab-df-buttons\">\n",
              "\n",
              "  <div class=\"colab-df-container\">\n",
              "    <button class=\"colab-df-convert\" onclick=\"convertToInteractive('df-11c0b355-8ee7-45c0-9554-7a92d06b9df5')\"\n",
              "            title=\"Convert this dataframe to an interactive table.\"\n",
              "            style=\"display:none;\">\n",
              "\n",
              "  <svg xmlns=\"http://www.w3.org/2000/svg\" height=\"24px\" viewBox=\"0 -960 960 960\">\n",
              "    <path d=\"M120-120v-720h720v720H120Zm60-500h600v-160H180v160Zm220 220h160v-160H400v160Zm0 220h160v-160H400v160ZM180-400h160v-160H180v160Zm440 0h160v-160H620v160ZM180-180h160v-160H180v160Zm440 0h160v-160H620v160Z\"/>\n",
              "  </svg>\n",
              "    </button>\n",
              "\n",
              "  <style>\n",
              "    .colab-df-container {\n",
              "      display:flex;\n",
              "      gap: 12px;\n",
              "    }\n",
              "\n",
              "    .colab-df-convert {\n",
              "      background-color: #E8F0FE;\n",
              "      border: none;\n",
              "      border-radius: 50%;\n",
              "      cursor: pointer;\n",
              "      display: none;\n",
              "      fill: #1967D2;\n",
              "      height: 32px;\n",
              "      padding: 0 0 0 0;\n",
              "      width: 32px;\n",
              "    }\n",
              "\n",
              "    .colab-df-convert:hover {\n",
              "      background-color: #E2EBFA;\n",
              "      box-shadow: 0px 1px 2px rgba(60, 64, 67, 0.3), 0px 1px 3px 1px rgba(60, 64, 67, 0.15);\n",
              "      fill: #174EA6;\n",
              "    }\n",
              "\n",
              "    .colab-df-buttons div {\n",
              "      margin-bottom: 4px;\n",
              "    }\n",
              "\n",
              "    [theme=dark] .colab-df-convert {\n",
              "      background-color: #3B4455;\n",
              "      fill: #D2E3FC;\n",
              "    }\n",
              "\n",
              "    [theme=dark] .colab-df-convert:hover {\n",
              "      background-color: #434B5C;\n",
              "      box-shadow: 0px 1px 3px 1px rgba(0, 0, 0, 0.15);\n",
              "      filter: drop-shadow(0px 1px 2px rgba(0, 0, 0, 0.3));\n",
              "      fill: #FFFFFF;\n",
              "    }\n",
              "  </style>\n",
              "\n",
              "    <script>\n",
              "      const buttonEl =\n",
              "        document.querySelector('#df-11c0b355-8ee7-45c0-9554-7a92d06b9df5 button.colab-df-convert');\n",
              "      buttonEl.style.display =\n",
              "        google.colab.kernel.accessAllowed ? 'block' : 'none';\n",
              "\n",
              "      async function convertToInteractive(key) {\n",
              "        const element = document.querySelector('#df-11c0b355-8ee7-45c0-9554-7a92d06b9df5');\n",
              "        const dataTable =\n",
              "          await google.colab.kernel.invokeFunction('convertToInteractive',\n",
              "                                                    [key], {});\n",
              "        if (!dataTable) return;\n",
              "\n",
              "        const docLinkHtml = 'Like what you see? Visit the ' +\n",
              "          '<a target=\"_blank\" href=https://colab.research.google.com/notebooks/data_table.ipynb>data table notebook</a>'\n",
              "          + ' to learn more about interactive tables.';\n",
              "        element.innerHTML = '';\n",
              "        dataTable['output_type'] = 'display_data';\n",
              "        await google.colab.output.renderOutput(dataTable, element);\n",
              "        const docLink = document.createElement('div');\n",
              "        docLink.innerHTML = docLinkHtml;\n",
              "        element.appendChild(docLink);\n",
              "      }\n",
              "    </script>\n",
              "  </div>\n",
              "\n",
              "\n",
              "<div id=\"df-02c478ea-7326-480a-ad44-e5b40fe2ad42\">\n",
              "  <button class=\"colab-df-quickchart\" onclick=\"quickchart('df-02c478ea-7326-480a-ad44-e5b40fe2ad42')\"\n",
              "            title=\"Suggest charts\"\n",
              "            style=\"display:none;\">\n",
              "\n",
              "<svg xmlns=\"http://www.w3.org/2000/svg\" height=\"24px\"viewBox=\"0 0 24 24\"\n",
              "     width=\"24px\">\n",
              "    <g>\n",
              "        <path d=\"M19 3H5c-1.1 0-2 .9-2 2v14c0 1.1.9 2 2 2h14c1.1 0 2-.9 2-2V5c0-1.1-.9-2-2-2zM9 17H7v-7h2v7zm4 0h-2V7h2v10zm4 0h-2v-4h2v4z\"/>\n",
              "    </g>\n",
              "</svg>\n",
              "  </button>\n",
              "\n",
              "<style>\n",
              "  .colab-df-quickchart {\n",
              "      --bg-color: #E8F0FE;\n",
              "      --fill-color: #1967D2;\n",
              "      --hover-bg-color: #E2EBFA;\n",
              "      --hover-fill-color: #174EA6;\n",
              "      --disabled-fill-color: #AAA;\n",
              "      --disabled-bg-color: #DDD;\n",
              "  }\n",
              "\n",
              "  [theme=dark] .colab-df-quickchart {\n",
              "      --bg-color: #3B4455;\n",
              "      --fill-color: #D2E3FC;\n",
              "      --hover-bg-color: #434B5C;\n",
              "      --hover-fill-color: #FFFFFF;\n",
              "      --disabled-bg-color: #3B4455;\n",
              "      --disabled-fill-color: #666;\n",
              "  }\n",
              "\n",
              "  .colab-df-quickchart {\n",
              "    background-color: var(--bg-color);\n",
              "    border: none;\n",
              "    border-radius: 50%;\n",
              "    cursor: pointer;\n",
              "    display: none;\n",
              "    fill: var(--fill-color);\n",
              "    height: 32px;\n",
              "    padding: 0;\n",
              "    width: 32px;\n",
              "  }\n",
              "\n",
              "  .colab-df-quickchart:hover {\n",
              "    background-color: var(--hover-bg-color);\n",
              "    box-shadow: 0 1px 2px rgba(60, 64, 67, 0.3), 0 1px 3px 1px rgba(60, 64, 67, 0.15);\n",
              "    fill: var(--button-hover-fill-color);\n",
              "  }\n",
              "\n",
              "  .colab-df-quickchart-complete:disabled,\n",
              "  .colab-df-quickchart-complete:disabled:hover {\n",
              "    background-color: var(--disabled-bg-color);\n",
              "    fill: var(--disabled-fill-color);\n",
              "    box-shadow: none;\n",
              "  }\n",
              "\n",
              "  .colab-df-spinner {\n",
              "    border: 2px solid var(--fill-color);\n",
              "    border-color: transparent;\n",
              "    border-bottom-color: var(--fill-color);\n",
              "    animation:\n",
              "      spin 1s steps(1) infinite;\n",
              "  }\n",
              "\n",
              "  @keyframes spin {\n",
              "    0% {\n",
              "      border-color: transparent;\n",
              "      border-bottom-color: var(--fill-color);\n",
              "      border-left-color: var(--fill-color);\n",
              "    }\n",
              "    20% {\n",
              "      border-color: transparent;\n",
              "      border-left-color: var(--fill-color);\n",
              "      border-top-color: var(--fill-color);\n",
              "    }\n",
              "    30% {\n",
              "      border-color: transparent;\n",
              "      border-left-color: var(--fill-color);\n",
              "      border-top-color: var(--fill-color);\n",
              "      border-right-color: var(--fill-color);\n",
              "    }\n",
              "    40% {\n",
              "      border-color: transparent;\n",
              "      border-right-color: var(--fill-color);\n",
              "      border-top-color: var(--fill-color);\n",
              "    }\n",
              "    60% {\n",
              "      border-color: transparent;\n",
              "      border-right-color: var(--fill-color);\n",
              "    }\n",
              "    80% {\n",
              "      border-color: transparent;\n",
              "      border-right-color: var(--fill-color);\n",
              "      border-bottom-color: var(--fill-color);\n",
              "    }\n",
              "    90% {\n",
              "      border-color: transparent;\n",
              "      border-bottom-color: var(--fill-color);\n",
              "    }\n",
              "  }\n",
              "</style>\n",
              "\n",
              "  <script>\n",
              "    async function quickchart(key) {\n",
              "      const quickchartButtonEl =\n",
              "        document.querySelector('#' + key + ' button');\n",
              "      quickchartButtonEl.disabled = true;  // To prevent multiple clicks.\n",
              "      quickchartButtonEl.classList.add('colab-df-spinner');\n",
              "      try {\n",
              "        const charts = await google.colab.kernel.invokeFunction(\n",
              "            'suggestCharts', [key], {});\n",
              "      } catch (error) {\n",
              "        console.error('Error during call to suggestCharts:', error);\n",
              "      }\n",
              "      quickchartButtonEl.classList.remove('colab-df-spinner');\n",
              "      quickchartButtonEl.classList.add('colab-df-quickchart-complete');\n",
              "    }\n",
              "    (() => {\n",
              "      let quickchartButtonEl =\n",
              "        document.querySelector('#df-02c478ea-7326-480a-ad44-e5b40fe2ad42 button');\n",
              "      quickchartButtonEl.style.display =\n",
              "        google.colab.kernel.accessAllowed ? 'block' : 'none';\n",
              "    })();\n",
              "  </script>\n",
              "</div>\n",
              "\n",
              "  <div id=\"id_c150abb5-5cf6-461e-be5f-12efba09d54e\">\n",
              "    <style>\n",
              "      .colab-df-generate {\n",
              "        background-color: #E8F0FE;\n",
              "        border: none;\n",
              "        border-radius: 50%;\n",
              "        cursor: pointer;\n",
              "        display: none;\n",
              "        fill: #1967D2;\n",
              "        height: 32px;\n",
              "        padding: 0 0 0 0;\n",
              "        width: 32px;\n",
              "      }\n",
              "\n",
              "      .colab-df-generate:hover {\n",
              "        background-color: #E2EBFA;\n",
              "        box-shadow: 0px 1px 2px rgba(60, 64, 67, 0.3), 0px 1px 3px 1px rgba(60, 64, 67, 0.15);\n",
              "        fill: #174EA6;\n",
              "      }\n",
              "\n",
              "      [theme=dark] .colab-df-generate {\n",
              "        background-color: #3B4455;\n",
              "        fill: #D2E3FC;\n",
              "      }\n",
              "\n",
              "      [theme=dark] .colab-df-generate:hover {\n",
              "        background-color: #434B5C;\n",
              "        box-shadow: 0px 1px 3px 1px rgba(0, 0, 0, 0.15);\n",
              "        filter: drop-shadow(0px 1px 2px rgba(0, 0, 0, 0.3));\n",
              "        fill: #FFFFFF;\n",
              "      }\n",
              "    </style>\n",
              "    <button class=\"colab-df-generate\" onclick=\"generateWithVariable('df')\"\n",
              "            title=\"Generate code using this dataframe.\"\n",
              "            style=\"display:none;\">\n",
              "\n",
              "  <svg xmlns=\"http://www.w3.org/2000/svg\" height=\"24px\"viewBox=\"0 0 24 24\"\n",
              "       width=\"24px\">\n",
              "    <path d=\"M7,19H8.4L18.45,9,17,7.55,7,17.6ZM5,21V16.75L18.45,3.32a2,2,0,0,1,2.83,0l1.4,1.43a1.91,1.91,0,0,1,.58,1.4,1.91,1.91,0,0,1-.58,1.4L9.25,21ZM18.45,9,17,7.55Zm-12,3A5.31,5.31,0,0,0,4.9,8.1,5.31,5.31,0,0,0,1,6.5,5.31,5.31,0,0,0,4.9,4.9,5.31,5.31,0,0,0,6.5,1,5.31,5.31,0,0,0,8.1,4.9,5.31,5.31,0,0,0,12,6.5,5.46,5.46,0,0,0,6.5,12Z\"/>\n",
              "  </svg>\n",
              "    </button>\n",
              "    <script>\n",
              "      (() => {\n",
              "      const buttonEl =\n",
              "        document.querySelector('#id_c150abb5-5cf6-461e-be5f-12efba09d54e button.colab-df-generate');\n",
              "      buttonEl.style.display =\n",
              "        google.colab.kernel.accessAllowed ? 'block' : 'none';\n",
              "\n",
              "      buttonEl.onclick = () => {\n",
              "        google.colab.notebook.generateWithVariable('df');\n",
              "      }\n",
              "      })();\n",
              "    </script>\n",
              "  </div>\n",
              "\n",
              "    </div>\n",
              "  </div>\n"
            ],
            "application/vnd.google.colaboratory.intrinsic+json": {
              "type": "dataframe",
              "variable_name": "df",
              "summary": "{\n  \"name\": \"df\",\n  \"rows\": 12,\n  \"fields\": [\n    {\n      \"column\": \"n1\",\n      \"properties\": {\n        \"dtype\": \"number\",\n        \"std\": 1,\n        \"min\": 1,\n        \"max\": 5,\n        \"num_unique_values\": 5,\n        \"samples\": [\n          2,\n          5,\n          3\n        ],\n        \"semantic_type\": \"\",\n        \"description\": \"\"\n      }\n    },\n    {\n      \"column\": \"label\",\n      \"properties\": {\n        \"dtype\": \"number\",\n        \"std\": 0,\n        \"min\": 11,\n        \"max\": 12,\n        \"num_unique_values\": 2,\n        \"samples\": [\n          12,\n          11\n        ],\n        \"semantic_type\": \"\",\n        \"description\": \"\"\n      }\n    },\n    {\n      \"column\": \"n2\",\n      \"properties\": {\n        \"dtype\": \"number\",\n        \"std\": 1,\n        \"min\": 1,\n        \"max\": 6,\n        \"num_unique_values\": 6,\n        \"samples\": [\n          2,\n          3\n        ],\n        \"semantic_type\": \"\",\n        \"description\": \"\"\n      }\n    }\n  ]\n}"
            }
          },
          "metadata": {},
          "execution_count": 332
        }
      ]
    },
    {
      "cell_type": "markdown",
      "source": [
        "P1 - Implementar Neo4JS"
      ],
      "metadata": {
        "id": "I1ztXhJGUKAC"
      }
    },
    {
      "cell_type": "markdown",
      "source": [
        "Nos conectamos a una base de Neo4j"
      ],
      "metadata": {
        "id": "x-Vz61iubNzd"
      }
    },
    {
      "cell_type": "code",
      "source": [
        "URI = \"neo4j+s://cc330f29.databases.neo4j.io\"\n",
        "AUTH = (\"neo4j\",\"UXROJ0E-Lv4ncdteIU_5hq4gBHY3sn7uSvQpUJQCs80\")\n",
        "\n",
        "driver = GraphDatabase.driver(URI, auth=AUTH)\n",
        "with driver.session() as session:\n",
        "    try:\n",
        "        session.run(\"RETURN 1\")\n",
        "        print(\"Connection to Neo4j established successfully!\")\n",
        "    except Exception as e:\n",
        "        print(f\"Failed to connect to Neo4j: {e}\")\n"
      ],
      "metadata": {
        "id": "lA2zzv1Y-WKf",
        "outputId": "19d5eb04-1ef4-4d5d-c79b-0ebb0eecc602",
        "colab": {
          "base_uri": "https://localhost:8080/"
        }
      },
      "execution_count": 333,
      "outputs": [
        {
          "output_type": "stream",
          "name": "stdout",
          "text": [
            "Connection to Neo4j established successfully!\n"
          ]
        }
      ]
    },
    {
      "cell_type": "code",
      "source": [
        "def create_relationships(session, info):\n",
        "\n",
        "    query = \"\"\"\n",
        "    UNWIND $edges AS row\n",
        "    MERGE (n1:Node {id:row.n1})\n",
        "    MERGE (n2:Node {id:row.n2})\n",
        "    MERGE (n1)-[r:Label {value:row.label}]->(n2);\n",
        "    \"\"\"\n",
        "    session.run(query, edges=info)\n"
      ],
      "metadata": {
        "id": "KGpri_tdSug5"
      },
      "execution_count": 334,
      "outputs": []
    },
    {
      "cell_type": "markdown",
      "source": [
        "Cargamos los datos y los leemos desde la base"
      ],
      "metadata": {
        "id": "Iu40ilEjbv6v"
      }
    },
    {
      "cell_type": "code",
      "source": [
        "\n",
        "# Insert data into Neo4j\n",
        "with driver.session() as session:\n",
        "  create_relationships(session, df.to_dict('records'))\n",
        "  query = \"\"\"Match (n)-[r]->(m)\n",
        "          Return n,r.value,m\"\"\"\n",
        "  result = session.run(query)\n",
        "  example_graph = []\n",
        "  for record in result.data():\n",
        "    x = record['n']['id']\n",
        "    y = record['r.value']\n",
        "    z = record['m']['id']\n",
        "    example_graph.append((x,y,z))\n",
        "example_graph\n"
      ],
      "metadata": {
        "id": "IbPd7XlcLIZy",
        "outputId": "0c3a5746-68b5-4e1e-afc9-fccb96bb43e7",
        "colab": {
          "base_uri": "https://localhost:8080/"
        }
      },
      "execution_count": 335,
      "outputs": [
        {
          "output_type": "execute_result",
          "data": {
            "text/plain": [
              "[(1, 11, 2),\n",
              " (1, 11, 3),\n",
              " (2, 11, 3),\n",
              " (3, 11, 2),\n",
              " (3, 11, 4),\n",
              " (4, 11, 1),\n",
              " (4, 11, 2),\n",
              " (4, 11, 3),\n",
              " (4, 12, 5),\n",
              " (5, 12, 1),\n",
              " (5, 12, 2),\n",
              " (5, 12, 6)]"
            ]
          },
          "metadata": {},
          "execution_count": 335
        }
      ]
    },
    {
      "cell_type": "markdown",
      "source": [
        "P2"
      ],
      "metadata": {
        "id": "iGcBQ04TULXC"
      }
    },
    {
      "cell_type": "markdown",
      "source": [
        "Funciones auxiliares"
      ],
      "metadata": {
        "id": "DMawI_f-b1MI"
      }
    },
    {
      "cell_type": "code",
      "source": [
        "def mix_tuples(tup):\n",
        "    ((a_mod, b_mod, original_tuple), i) = tup\n",
        "    return [\n",
        "        ((a_mod, b_mod, i), original_tuple),\n",
        "        ((i, a_mod, b_mod), original_tuple),\n",
        "        ((b_mod, i, a_mod), original_tuple)\n",
        "    ]"
      ],
      "metadata": {
        "id": "Npa1n2e0iawJ"
      },
      "execution_count": 336,
      "outputs": []
    },
    {
      "cell_type": "code",
      "source": [
        "def triangulos(lista):\n",
        "  tuplas = []\n",
        "  for arista_pivote in lista:\n",
        "    x = arista_pivote[0]\n",
        "    y = arista_pivote[2]\n",
        "    for arista in lista:\n",
        "      if arista[0] == y:\n",
        "        z = arista[2]\n",
        "        for arista_final in lista:\n",
        "          if arista_final[0] == z and arista_final[2] == x:\n",
        "            triangulo = {x, y, z}\n",
        "            if triangulo not in tuplas:\n",
        "              tuplas.append(tuple(triangulo))\n",
        "      return tuplas"
      ],
      "metadata": {
        "id": "VDGh7UoooKZV"
      },
      "execution_count": 337,
      "outputs": []
    },
    {
      "cell_type": "code",
      "source": [
        "def triangulos(lista):\n",
        "  tuplas = []\n",
        "  for arista_pivote in lista:\n",
        "    x = arista_pivote[0]\n",
        "    y = arista_pivote[2]\n",
        "    for arista in lista:\n",
        "      if arista[0] == y:\n",
        "        z = arista[2]\n",
        "        for arista_final in lista:\n",
        "          if arista_final[0] == z and arista_final[2] == x:\n",
        "            triangulo = {x, y, z}\n",
        "            if triangulo not in tuplas:\n",
        "              tuplas.append(tuple(triangulo))\n",
        "  return tuplas"
      ],
      "metadata": {
        "id": "wN2-c2QRvs3v"
      },
      "execution_count": 338,
      "outputs": []
    },
    {
      "cell_type": "code",
      "source": [
        "def cycles(b):\n",
        "  tuples_rdd = sc.parallelize(example_graph)\n",
        "  #citar\n",
        "  indices_rdd = sc.parallelize(list(range(b)))\n",
        "  tuples_rdd = tuples_rdd.map(lambda t: (t[0] % b, t[2] % b, t))\n",
        "  cartesian_product = tuples_rdd.cartesian(indices_rdd)\n",
        "  mixed_tuples_rdd = cartesian_product.flatMap(mix_tuples)\n",
        "  mixed_tuples_rdd = mixed_tuples_rdd.distinct()\n",
        "  mixed_tuples_rdd = mixed_tuples_rdd.groupByKey()\n",
        "  mixed_tuples_rdd = mixed_tuples_rdd.mapValues(list)\n",
        "  mixed_tuples_rdd = mixed_tuples_rdd.mapValues(triangulos)\n",
        "  mixed_tuples_rdd = mixed_tuples_rdd.flatMap(lambda x: x[1])\n",
        "  mixed_tuples_rdd = mixed_tuples_rdd.distinct()\n",
        "  return mixed_tuples_rdd.collect()\n",
        "\n",
        "cycles(2)"
      ],
      "metadata": {
        "id": "E5SbTOWbx8BN",
        "outputId": "ed614ec6-04c5-4282-9274-3f9f85651cdf",
        "colab": {
          "base_uri": "https://localhost:8080/"
        }
      },
      "execution_count": 339,
      "outputs": [
        {
          "output_type": "execute_result",
          "data": {
            "text/plain": [
              "[(2, 3, 4), (1, 3, 4)]"
            ]
          },
          "metadata": {},
          "execution_count": 339
        }
      ]
    },
    {
      "cell_type": "markdown",
      "source": [
        "P3"
      ],
      "metadata": {
        "id": "5QQ9SNG43-WF"
      }
    },
    {
      "cell_type": "code",
      "source": [
        "def cuadrados(lista):\n",
        "  tuplas = []\n",
        "  for arista_pivote in lista:\n",
        "    x = arista_pivote[0]\n",
        "    y = arista_pivote[2]\n",
        "    for arista in lista:\n",
        "      if arista[0] == y:\n",
        "        z = arista[2]\n",
        "        for arista_2 in lista:\n",
        "          if arista_2[0] == z:\n",
        "            w = arista_2[2]\n",
        "            for arista_final in lista:\n",
        "              if arista_final[0] == w and arista_final[2] == x:\n",
        "                cuadrado = {x, y, z, w}\n",
        "                if len(cuadrado) == 4:\n",
        "                  cuadrado = sorted(list(cuadrado))\n",
        "                  comb = sorted((arista_pivote,arista,arista_2,arista_final))\n",
        "                  comb = set(comb)\n",
        "                  if comb not in tuplas:\n",
        "                    tuplas.append((tuple(cuadrado),comb))\n",
        "  return tuplas"
      ],
      "metadata": {
        "id": "nMTnklbawW1b"
      },
      "execution_count": 340,
      "outputs": []
    },
    {
      "cell_type": "code",
      "source": [
        "def flatten_tuples(record):\n",
        "    first_tuple, second_tuple = record\n",
        "    flattened_first_tuple = tuple(x for sub in first_tuple for x in (sub if isinstance(sub, tuple) else (sub,)))\n",
        "    return (flattened_first_tuple, second_tuple)"
      ],
      "metadata": {
        "id": "KaK1iKK9gBcB"
      },
      "execution_count": 341,
      "outputs": []
    },
    {
      "cell_type": "code",
      "source": [
        "def transformar(elemento):\n",
        "    primera_tupla = elemento[0]\n",
        "    lista_tuplas = list(elemento[1][0])\n",
        "    return (primera_tupla, lista_tuplas)"
      ],
      "metadata": {
        "id": "AaqrtDsB5wMF"
      },
      "execution_count": 342,
      "outputs": []
    },
    {
      "cell_type": "code",
      "source": [
        "def cycles_square(b):\n",
        "  combinaciones = [(i, j) for i in range(b) for j in range(b)]\n",
        "  tuples_rdd = sc.parallelize(example_graph)\n",
        "  tuples_rdd = tuples_rdd.map(lambda t: (t[0] % b, t[2] % b, t))\n",
        "  combinaciones = [(i, j) for i in range(b) for j in range(b)]\n",
        "  cartesian_product = sc.parallelize([(var, comb) for var in tuples_rdd.collect() for comb in combinaciones])\n",
        "  mixed_tuples_rdd = cartesian_product.flatMap(mix_tuples)\n",
        "  mixed_tuples_rdd = mixed_tuples_rdd.map(flatten_tuples)\n",
        "  mixed_tuples_rdd = mixed_tuples_rdd.distinct()\n",
        "  mixed_tuples_rdd = mixed_tuples_rdd.groupByKey()\n",
        "  mixed_tuples_rdd = mixed_tuples_rdd.mapValues(list)\n",
        "  mixed_tuples_rdd = mixed_tuples_rdd.mapValues(cuadrados)\n",
        "  mixed_tuples_rdd = mixed_tuples_rdd.flatMap(lambda x: x[1])\n",
        "  mixed_tuples_rdd = mixed_tuples_rdd.groupByKey()\n",
        "  mixed_tuples_rdd = mixed_tuples_rdd.mapValues(list)\n",
        "  mixed_tuples_rdd = mixed_tuples_rdd.map(transformar)\n",
        "  return mixed_tuples_rdd.collect()\n"
      ],
      "metadata": {
        "id": "kAcAG5R36Taf"
      },
      "execution_count": 343,
      "outputs": []
    },
    {
      "cell_type": "code",
      "source": [
        "def encontrar_cuadrados(A, L, M, b, rdd):\n",
        "    cuadrados = cycles_square(b)\n",
        "    d_l = dict()\n",
        "    for i in range(len(L)):\n",
        "        d_l[L[i]] = i\n",
        "    for cuadrado in cuadrados:\n",
        "      nodos = cuadrado[0]\n",
        "      aristas = cuadrado[1]\n",
        "      d_v = dict()\n",
        "      for i in range(len(nodos)):\n",
        "        d_v[nodos[i]] = i\n",
        "      counter = 0\n",
        "      for arista in aristas:\n",
        "        if M[d_l[arista[1]]][d_v[arista[0]]][d_v[arista[2]]]:\n",
        "          counter += 1\n",
        "      if counter == 4:\n",
        "        print(nodos, 'es cuadrado en M')\n",
        "\n",
        "\n",
        "A = [\"x\", \"y\", \"z\", \"w\"]\n",
        "L = [11, 12]\n",
        "\n",
        "M = [\n",
        "    [[0, 1, 0, 0],\n",
        "    [0, 0, 1, 0],\n",
        "    [0, 0, 0, 0],\n",
        "    [0, 0, 0, 0]],\n",
        "    [[0, 0, 0, 0],\n",
        "    [0, 0, 0, 0],\n",
        "    [0, 0, 0, 1],\n",
        "    [1, 0, 0, 0]]\n",
        "]\n",
        "rdd = example_graph\n",
        "\n",
        "\n",
        "encontrar_cuadrados(A,L,M,b,rdd)\n"
      ],
      "metadata": {
        "colab": {
          "base_uri": "https://localhost:8080/"
        },
        "id": "fkCfX6kMOFgN",
        "outputId": "54d30665-5866-4e60-b396-8ccbadd0d0e4"
      },
      "execution_count": 344,
      "outputs": [
        {
          "output_type": "stream",
          "name": "stdout",
          "text": [
            "(2, 3, 4, 5) es cuadrado en M\n",
            "(1, 3, 4, 5) es cuadrado en M\n"
          ]
        }
      ]
    }
  ],
  "metadata": {
    "language_info": {
      "name": "python"
    },
    "colab": {
      "provenance": []
    },
    "kernelspec": {
      "name": "python3",
      "display_name": "Python 3"
    }
  },
  "nbformat": 4,
  "nbformat_minor": 0
}